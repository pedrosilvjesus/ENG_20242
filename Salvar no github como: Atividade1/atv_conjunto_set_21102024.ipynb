# 1 - Criação do conjunto `frutas`
frutas = {"maçã", "banana", "laranja", "uva"}
print("Conjunto frutas:", frutas)

# 2 - Adicionando "morango" e tentando adicionar um elemento existente
frutas.add("morango")
print("Após adicionar 'morango':", frutas)
frutas.add("banana")  # Tentando adicionar um elemento existente
print("Após tentar adicionar 'banana' novamente:", frutas)

# 3 - Removendo "banana" com verificação
if "banana" in frutas:
    frutas.remove("banana")
    print("Após remover 'banana':", frutas)
else:
    print("'banana' não está presente no conjunto.")

# 4 - Verificando se "laranja" está no conjunto
if "laranja" in frutas:
    print("'laranja' está presente no conjunto.")
else:
    print("'laranja' não está presente no conjunto.")

# 5 - Criação do conjunto `citrus` e união dos conjuntos
citrus = {"laranja", "limão", "tangerina"}
uniao = frutas.union(citrus)
print("União dos conjuntos (frutas e citrus):", uniao)

# 6 - Interseção entre os conjuntos `frutas` e `citrus`
interseccao = frutas.intersection(citrus)
print("Interseção dos conjuntos (frutas e citrus):", interseccao)

# 7 - Diferença entre os conjuntos `frutas` e `citrus`
diferenca = frutas.difference(citrus)
print("Diferença entre frutas e citrus:", diferenca)

# 8 - Esvaziando o conjunto `citrus`
citrus.clear()
print("Após esvaziar citrus:", citrus)

# 9 - Convertendo `frutas` em um conjunto imutável
frutas_imutavel = frozenset(frutas)
print("Conjunto imutável frutas:", frutas_imutavel)

# 10 - Contando elementos únicos no conjunto `frutas`
num_elementos_unicos = len(frutas)
print("Número de elementos únicos em frutas:", num_elementos_unicos)

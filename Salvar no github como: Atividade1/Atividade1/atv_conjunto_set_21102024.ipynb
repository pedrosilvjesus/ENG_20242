1 Crie uma tupla chamada cidades que contenha os nomes de cinco cidades. Imprima a terceira cidade.

cidades = ("São Paulo", "Rio de Janeiro", "Belo Horizonte", "Salvador", "Fortaleza")
print(cidades[2])

#2 Crie uma tupla chamada numeros com os seguintes valores: (1, 2, 3, 1, 4, 1). Utilize o método count() para contar quantas vezes o número 1 aparece na tupla.

numeros = (1, 2, 3, 1, 4, 1)
quantidade_de_unos = numeros.count(1)
print(quantidade_de_unos)

#3 Crie uma tupla chamada animais com os seguintes valores: ('cachorro', 'gato', 'pássaro'). Verifique se 'gato' está na tupla e imprima uma

animais = ('cachorro', 'gato', 'pássaro')
if 'gato' in animais:
    print("'gato' está na tupla")
else:
    print("'gato' não está na tupla")

#4 Dada a tupla meses = ('janeiro', 'fevereiro', 'março', 'abril', 'maio'), encontre e imprima o índice do mês 'abril'.

meses = ('janeiro', 'fevereiro', 'março', 'abril', 'maio')
indice_abril = meses.index('abril')
print(indice_abril)

#5 Crie uma tupla chamada coordenadas que armazene a latitude e longitude de um local (ex: (-23.5505, -46.6333)). Imprima a latitude e a longitude separadamente.


coordenadas = (-23.5505, -46.6333)
latitude = coordenadas[0]
longitude = coordenadas[1]
print(f"Latitude: {latitude}")
print(f"Longitude: {longitude}")

#6 Crie um dicionário chamado carro com as chaves marca, modelo e ano. Atribua valores de sua escolha e imprima o modelo do carro.

carro = {
    'marca': 'Tesla',
    'modelo': 'Model S',
    'ano': 2022
}
print(carro['modelo'])

#7 Use o dicionário carro que você criou no exercício anterior. Adicione uma nova chave chamada cor e atribua uma cor ao carro. Em seguida, imprima o dicionário completo.

carro = {
    'marca': 'Tesla',
    'modelo': 'Model S',
    'ano': 2022
}
carro['cor'] = 'vermelho'
print(carro)

#8 Dado o dicionário pessoa = {'nome': 'João', 'idade': 30, 'cidade': 'São Paulo'}, remova a chave idade e imprima o dicionário resultante.

pessoa = {'nome': 'João', 'idade': 30, 'cidade': 'São Paulo'}
del pessoa['idade']
print(pessoa)

#9 Crie um dicionário chamado produto que contenha nome, preco e quantidade. Use um loop for para imprimir todos os pares chave/valor.

produto = {
    'nome': 'Notebook',
    'preco': 3500.00,
    'quantidade': 5
}
for chave, valor in produto.items():
    print(f"{chave}: {valor}")


#10 Dado o dicionário estudante = {'nome': 'Maria', 'curso': 'Biologia', 'ano': 2}, verifique se a chave curso existe. Se existir, imprima "A estudante está no curso de Biologia."


estudante = {'nome': 'Maria', 'curso': 'Biologia', 'ano': 2}
if 'curso' in estudante:
    print("A estudante está no curso de Biologia.")











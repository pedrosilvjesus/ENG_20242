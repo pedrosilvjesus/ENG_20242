# 1 - Crie um conjunto chamado `frutas` que contenha os seguintes elementos: "maçã", "banana", "laranja" e "uva". Depois de criar o conjunto, exiba-o no console para confirmar os elementos adicionados.
frutas = {"maçã", "banana", "laranja", "uva"}
print(frutas)

# 2 - Utilizando o conjunto `frutas` criado anteriormente, adicione a fruta "morango" ao conjunto. Lembre-se que conjuntos não permitem duplicatas, então adicione um elemento que já exista para verificar o comportamento.
frutas.add("morango")
print(frutas)  # Adicionando "morango"
frutas.add("banana")  # Tentando adicionar "banana" novamente
print(frutas)  # Verificando se "banana" foi adicionado novamente

# 3 - Remova a fruta "banana" do conjunto `frutas`. Se "banana" não estiver presente, o código pode gerar um erro. Verifique se a fruta existe antes de removê-la ou trate o erro adequadamente.
if "banana" in frutas:
    frutas.remove("banana")
else:
    print("A fruta 'banana' não está presente.")
print(frutas)

# 4 - Verifique se a fruta "laranja" está presente no conjunto `frutas` usando uma estrutura condicional. Exiba uma mensagem no console indicando se "laranja" está ou não presente no conjunto.
if "laranja" in frutas:
    print("A fruta 'laranja' está presente no conjunto.")
else:
    print("A fruta 'laranja' não está presente no conjunto.")

# 5 - Crie um segundo conjunto chamado `citrus`, contendo "laranja", "limão" e "tangerina". Faça a união dos conjuntos `frutas` e `citrus`, criando um novo conjunto que contém todos os elementos dos dois conjuntos. Exiba o resultado dessa união.
citrus = {"laranja", "limão", "tangerina"}
uniao = frutas.union(citrus)
print("União dos conjuntos:", uniao)

# 6 - Usando os conjuntos `frutas` e `citrus`, encontre a interseção entre eles, ou seja, os elementos que estão presentes em ambos os conjuntos. Exiba os elementos comuns.
interseccao = frutas.intersection(citrus)
print("Interseção dos conjuntos:", interseccao)

# 7 - Encontre a diferença entre os conjuntos `frutas` e `citrus`, ou seja, os elementos que estão em `frutas` mas não estão em `citrus`. Exiba o resultado dessa diferença.
diferenca = frutas.difference(citrus)
print("Diferença entre os conjuntos:", diferenca)

# 8 - Esvazie completamente o conjunto `citrus` usando um método específico que remove todos os elementos de um conjunto. Verifique se o conjunto foi realmente esvaziado ao exibi-lo no console após a operação.
citrus.clear()
print("Conjunto 'citrus' após esvaziamento:", citrus)

# 9 - Converta o conjunto `frutas` em um conjunto imutável, ou seja, um conjunto que não pode ser alterado após sua criação. Crie esse conjunto imutável e exiba-o no console.
frutas_imutavel = frozenset(frutas)
print("Conjunto imutável 'frutas':", frutas_imutavel)

# 10 - Conte quantos elementos únicos existem no conjunto `frutas` e exiba o número total de elementos no console.
numero_elementos = len(frutas)
print("Número total de elementos únicos no conjunto 'frutas':", numero_elementos)

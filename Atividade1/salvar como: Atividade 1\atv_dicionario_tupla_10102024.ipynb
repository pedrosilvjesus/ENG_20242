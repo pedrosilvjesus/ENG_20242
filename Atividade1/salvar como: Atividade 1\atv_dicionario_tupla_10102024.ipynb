# 1 - Criação da tupla `cidades`
cidades = ("São Paulo", "Rio de Janeiro", "Belo Horizonte", "Salvador", "Fortaleza")
print("A terceira cidade é:", cidades[2])

# 2 - Criação da tupla `numeros` e contagem do número 1
numeros = (1, 2, 3, 1, 4, 1)
contagem_1 = numeros.count(1)
print("O número 1 aparece", contagem_1, "vezes na tupla.")

# 3 - Criação da tupla `animais` e verificação da presença de 'gato'
animais = ('cachorro', 'gato', 'pássaro')
if 'gato' in animais:
    print("'gato' está na tupla.")
else:
    print("'gato' não está na tupla.")

# 4 - Dada a tupla `meses`, encontra o índice do mês 'abril'
meses = ('janeiro', 'fevereiro', 'março', 'abril', 'maio')
indice_abri = meses.index('abril')
print("O índice do mês 'abril' é:", indice_abri)

# 5 - Criação da tupla `coordenadas` e impressão da latitude e longitude
coordenadas = (-23.5505, -46.6333)
latitude, longitude = coordenadas
print("Latitude:", latitude)
print("Longitude:", longitude)

# 6 - Criação do dicionário `carro`
carro = {
    'marca': 'Toyota',
    'modelo': 'Corolla',
    'ano': 2020
}
print("O modelo do carro é:", carro['modelo'])

# 7 - Adicionando a chave 'cor' ao dicionário `carro`
carro['cor'] = 'azul'
print("Dicionário carro após adicionar cor:", carro)

# 8 - Removendo a chave 'idade' do dicionário `pessoa`
pessoa = {'nome': 'João', 'idade': 30, 'cidade': 'São Paulo'}
pessoa.pop('idade', None)  # Remove a chave 'idade', sem gerar erro se não existir
print("Dicionário pessoa após remoção da idade:", pessoa)

# 9 - Criação do dicionário `produto` e impressão dos pares chave/valor
produto = {
    'nome': 'Notebook',
    'preco': 3500,
    'quantidade': 10
}
for chave, valor in produto.items():
    print(f"{chave}: {valor}")

# 10 - Verificando se a chave 'curso' existe no dicionário `estudante`
estudante = {'nome': 'Maria', 'curso': 'Biologia', 'ano': 2}
if 'curso' in estudante:
    print("A estudante está no curso de Biologia.")
